{
  "cells": [
    {
      "cell_type": "markdown",
      "metadata": {
        "collapsed": false,
        "id": "XDDbguyGU8Fs"
      },
      "source": [
        "# Mid-semester assignment Part 1 - Basics of deep learning\n",
        "\n",
        "---\n",
        "<br>\n",
        "\n",
        "### Name and ID:\n",
        "Student 1: Tal Levy\n",
        "<br>\n",
        "Student 2: Omer Virshuvski"
      ]
    },
    {
      "cell_type": "markdown",
      "metadata": {
        "id": "JLkWLC8f3HZI"
      },
      "source": [
        "## Sign Language Digits With NumPy\n",
        "Sign Language Digits dataset contains 5,000 grayscale images in 10 categories. The images show individual articles of hand sign at low resolution (28 by 28 pixels), as seen here:\n",
        "\n",
        "<table>\n",
        "  <tr><td>\n",
        "    <img src=\"https://www.researchgate.net/publication/344389112/figure/fig8/AS:941467451260937@1601474740275/Sample-images-from-ASL-with-digits-dataset.png\"\n",
        "         alt=\"Fashion MNIST sprite\"  width=\"600\">\n",
        "  </td></tr>\n",
        "  \n",
        "</table>\n",
        "\n"
      ]
    },
    {
      "cell_type": "markdown",
      "metadata": {
        "id": "WiRxNFCn3Vxd"
      },
      "source": [
        "\n",
        "\n",
        "The images are 28x28 NumPy arrays, with pixel values ranging between 0 and 255. The *labels* are an array of numbers ranging from '0' to '9'. These correspond to the *class* of hand sign digit the image represents:\n",
        "\n",
        "<table>\n",
        "  <tr>\n",
        "    <th>Label</th>\n",
        "    <th>Class</th>\n",
        "  </tr>\n",
        "  <tr>\n",
        "    <td>0</td>\n",
        "    <td>Hand Sign Zero</td>\n",
        "  </tr>\n",
        "  <tr>\n",
        "    <td>1</td>\n",
        "    <td>Hand Sign One</td>\n",
        "  </tr>\n",
        "    <tr>\n",
        "    <td>2</td>\n",
        "    <td>Hand Sign Two</td>\n",
        "  </tr>\n",
        "    <tr>\n",
        "    <td>3</td>\n",
        "    <td>Hand Sign Three</td>\n",
        "  </tr>\n",
        "    <tr>\n",
        "    <td>4</td>\n",
        "    <td>Hand Sign Four</td>\n",
        "  </tr>\n",
        "    <tr>\n",
        "    <td>5</td>\n",
        "    <td>Hand Sign Five</td>\n",
        "  </tr>\n",
        "    <tr>\n",
        "    <td>6</td>\n",
        "    <td>Hand Sign Six</td>\n",
        "  </tr>\n",
        "    <tr>\n",
        "    <td>7</td>\n",
        "    <td>Hand Sign Seven</td>\n",
        "  </tr>\n",
        "    <tr>\n",
        "    <td>8</td>\n",
        "    <td>Hand Sign Eight</td>\n",
        "  </tr>\n",
        "    <tr>\n",
        "    <td>9</td>\n",
        "    <td>Hand Sign Nine</td>\n",
        "  </tr>\n",
        "</table>\n",
        "\n",
        "<br>\n",
        "\n",
        "# Goodluck!"
      ]
    },
    {
      "cell_type": "markdown",
      "metadata": {
        "collapsed": false,
        "id": "4K84YZ_QU8Fv"
      },
      "source": [
        "#Neural Network in plain NumPy"
      ]
    },
    {
      "cell_type": "markdown",
      "metadata": {
        "id": "QReFpU112hLT"
      },
      "source": [
        "## Import Libraries"
      ]
    },
    {
      "cell_type": "code",
      "execution_count": 19,
      "metadata": {
        "colab": {
          "base_uri": "https://localhost:8080/"
        },
        "id": "tLOHjUiFU8Fv",
        "outputId": "ce89b93e-0b96-4a61-e945-4b89d40b53f9"
      },
      "outputs": [
        {
          "name": "stdout",
          "output_type": "stream",
          "text": [
            "time: 784 µs (started: 2025-01-21 10:27:10 +00:00)\n"
          ]
        }
      ],
      "source": [
        "import numpy as np\n",
        "import matplotlib\n",
        "import matplotlib.pyplot as plt\n",
        "from sklearn.datasets import fetch_openml\n",
        "from sklearn.metrics import classification_report, confusion_matrix"
      ]
    },
    {
      "cell_type": "markdown",
      "metadata": {
        "id": "D5MsCpUv2tuj"
      },
      "source": [
        "## Dwonload Dataset"
      ]
    },
    {
      "cell_type": "code",
      "execution_count": 20,
      "metadata": {
        "colab": {
          "base_uri": "https://localhost:8080/"
        },
        "id": "SiM-d_4cV1aZ",
        "outputId": "dd807189-675a-4fee-f2d7-48c56ca19546"
      },
      "outputs": [
        {
          "name": "stdout",
          "output_type": "stream",
          "text": [
            "time: 10.8 s (started: 2025-01-21 10:27:11 +00:00)\n"
          ]
        }
      ],
      "source": [
        "%%capture\n",
        "!pip install ipython-autotime\n",
        "!pip install -U --no-cache-dir gdown --pre\n",
        "!gdown --id 1-0fhqH8tXKPb60C_b4aUHT7f-J4O6Ezq\n",
        "%load_ext autotime"
      ]
    },
    {
      "cell_type": "markdown",
      "metadata": {
        "id": "uj30jTHwXNXp"
      },
      "source": [
        "Loading the dataset as NumPy arrays:\n",
        "\n",
        "* The `dataset` file is a NumPy array containing the image pixles. As you can see, it includes 5,000 rows for each image and 784 columns for each pixel in the image (28x28).\n",
        "* The `labels` file is a NumPy array containing the images labels. As you can see, it includes 5,000 rows for each image corresponding to the dataset."
      ]
    },
    {
      "cell_type": "code",
      "execution_count": 21,
      "metadata": {
        "colab": {
          "base_uri": "https://localhost:8080/"
        },
        "id": "nbzv9ZYA2pyW",
        "outputId": "3c1de6e2-360e-47aa-9164-04f1ab0c7e2a"
      },
      "outputs": [
        {
          "name": "stdout",
          "output_type": "stream",
          "text": [
            "Dataset shape: (5000, 784)\n",
            "Labels shape: (5000,)\n",
            "time: 56.6 ms (started: 2025-01-21 10:27:21 +00:00)\n"
          ]
        }
      ],
      "source": [
        "loaded_data = np.load('/content/dataset_labels.npz')\n",
        "X, y = loaded_data['dataset'], loaded_data['labels']\n",
        "print(f'Dataset shape: {X.shape}\\nLabels shape: {y.shape}')"
      ]
    },
    {
      "cell_type": "markdown",
      "metadata": {
        "id": "GPBGGKtSoVpU"
      },
      "source": [
        "## Data preprocessing (10%)"
      ]
    },
    {
      "cell_type": "markdown",
      "metadata": {
        "id": "LZfq8otp-wXY"
      },
      "source": [
        "### Feature scaling"
      ]
    },
    {
      "cell_type": "code",
      "execution_count": 22,
      "metadata": {
        "colab": {
          "base_uri": "https://localhost:8080/"
        },
        "id": "7MZtZIzzDIKe",
        "outputId": "4391eb5e-aeb0-4435-81f7-8dc3a40c30d0"
      },
      "outputs": [
        {
          "name": "stdout",
          "output_type": "stream",
          "text": [
            "(784, 5000)\n",
            "(1, 5000)\n",
            "time: 17.5 ms (started: 2025-01-21 10:27:22 +00:00)\n"
          ]
        }
      ],
      "source": [
        "examples = y.shape[0]\n",
        "y1 = y.reshape(1, examples)\n",
        "X1 = X / 255\n",
        "X1 = X1.T\n",
        "print(X1.shape)\n",
        "print(y1.shape)"
      ]
    },
    {
      "cell_type": "markdown",
      "metadata": {
        "id": "i6K01j7A_Z4W"
      },
      "source": [
        "### Select two classes"
      ]
    },
    {
      "cell_type": "code",
      "execution_count": 23,
      "metadata": {
        "colab": {
          "base_uri": "https://localhost:8080/"
        },
        "id": "7OuPZ0o8DNWq",
        "outputId": "31ed5055-9901-465f-8719-a51e0163a507"
      },
      "outputs": [
        {
          "name": "stdout",
          "output_type": "stream",
          "text": [
            "Shape of X_selected: (1000, 784)\n",
            "Shape of y_selected: (1000,)\n",
            "time: 10.1 ms (started: 2025-01-21 10:27:22 +00:00)\n"
          ]
        }
      ],
      "source": [
        "selected_classes = ['3','1']\n",
        "mask = np.isin(y, selected_classes)\n",
        "\n",
        "X_selected = X[mask]\n",
        "y_selected = y[mask]\n",
        "\n",
        "y_selected = np.where(y_selected == '1', 1, np.where(y_selected == '3', 0, y_selected))\n",
        "labels = y_selected.shape[0]\n",
        "y_selected.reshape(1,labels)\n",
        "\n",
        "print(f'Shape of X_selected: {X_selected.shape}')\n",
        "print(f'Shape of y_selected: {y_selected.shape}')\n",
        "\n",
        "\n",
        "\n"
      ]
    },
    {
      "cell_type": "markdown",
      "metadata": {
        "id": "cn5UPcIQH2jS"
      },
      "source": [
        "### Split the data into Train set and Test set"
      ]
    },
    {
      "cell_type": "code",
      "execution_count": 24,
      "metadata": {
        "colab": {
          "base_uri": "https://localhost:8080/"
        },
        "id": "FBUI2DZmhd0y",
        "outputId": "3ef365a0-8fde-4e89-aade-e002de5df7fb"
      },
      "outputs": [
        {
          "name": "stdout",
          "output_type": "stream",
          "text": [
            "Shape of X_train: (784, 800), Y_train: (800, 1)\n",
            "Shape of X_test: (784, 200), Y_test: (200, 1)\n",
            "time: 7.1 ms (started: 2025-01-21 10:27:22 +00:00)\n"
          ]
        }
      ],
      "source": [
        "from sklearn.utils import shuffle\n",
        "\n",
        "labels = y_selected.shape[0]\n",
        "\n",
        "X = np.array\n",
        "Y = np.array\n",
        "\n",
        "X, Y = shuffle(X_selected, y_selected)\n",
        "split_index = int(0.8 * X.shape[0])\n",
        "\n",
        "X_train, X_test = X[:split_index], X[split_index:]\n",
        "Y_train, Y_test = Y[:split_index], Y[split_index:]\n",
        "\n",
        "train_labels = Y_train.shape[0]\n",
        "test_labels = Y_test.shape[0]\n",
        "\n",
        "X_train,X_test, Y_train, Y_test = X_train.T/255 , X_test.T/255 , Y_train.reshape(train_labels,1), Y_test.reshape(test_labels,1)\n",
        "\n",
        "print(f'Shape of X_train: {X_train.shape}, Y_train: {Y_train.shape}')\n",
        "print(f'Shape of X_test: {X_test.shape}, Y_test: {Y_test.shape}')\n"
      ]
    },
    {
      "cell_type": "markdown",
      "metadata": {
        "id": "gg7D7fwGH9Yv"
      },
      "source": [
        "### Test yourself"
      ]
    },
    {
      "cell_type": "code",
      "execution_count": 25,
      "metadata": {
        "colab": {
          "base_uri": "https://localhost:8080/",
          "height": 441
        },
        "id": "wkLl0PSyDR9S",
        "outputId": "0944d237-83f2-4413-dee2-a83646aee448"
      },
      "outputs": [
        {
          "data": {
            "image/png": "[encoded data removed]",
            "text/plain": [
              "<Figure size 640x480 with 1 Axes>"
            ]
          },
          "metadata": {},
          "output_type": "display_data"
        },
        {
          "name": "stdout",
          "output_type": "stream",
          "text": [
            "Label: 1, number 98\n",
            "time: 75.5 ms (started: 2025-01-21 10:27:22 +00:00)\n"
          ]
        }
      ],
      "source": [
        "%matplotlib inline\n",
        "from numpy import random\n",
        "\n",
        "i = random.randint(100)\n",
        "plt.imshow(X_train[:,i].reshape(28,28), cmap = matplotlib.cm.binary)\n",
        "plt.axis(\"off\")\n",
        "plt.show()\n",
        "Y_train[i,0]\n",
        "print(f'Label: {Y_train[i,0]}, number {i}')"
      ]
    },
    {
      "cell_type": "markdown",
      "metadata": {
        "id": "Q81OW5M7oCWZ"
      },
      "source": [
        "## Activation functions (10%)"
      ]
    },
    {
      "cell_type": "code",
      "execution_count": 26,
      "metadata": {
        "colab": {
          "base_uri": "https://localhost:8080/"
        },
        "id": "nxruxXBsDmP-",
        "outputId": "ed156201-2aa4-4a6c-f248-d52ef2091422"
      },
      "outputs": [
        {
          "name": "stdout",
          "output_type": "stream",
          "text": [
            "time: 560 µs (started: 2025-01-21 10:27:22 +00:00)\n"
          ]
        }
      ],
      "source": [
        "def sigmoid(z):\n",
        "    return 1 / (1 + np.exp(-z))"
      ]
    },
    {
      "cell_type": "markdown",
      "metadata": {
        "id": "OBIAUcVboOG9"
      },
      "source": [
        "## Loss Function (10%)\n",
        "\n",
        "The BCE Loss function embodies the idea that the neural network should incur a substantial penalty (i.e., Loss tending toward infinity) when the predicted probability diverges significantly from the actual label of the training example. Conversely, the Loss should be zero (Loss = 0) when the predicted probability aligns perfectly with the label of the training example. In simpler terms, the BCE Loss should be zero in the following two situations:\n",
        "\n",
        "- When the example has a positive label (${y} = 1$), the neural network should be entirely confident that the example belongs to the positive class, i.e., ($\\hat{p} = 1 $).\n",
        "- When the example has a negative label (${y} = 0$), the neural network should be entirely confident that the example does not belong to the positive class, i.e., ($\\hat{p} = 0 $).\n",
        "\n",
        "**It's important to note that when working with computers, extremely high or low values can sometimes be unmanageable and might even lead to system crashes. To address this, you must be aware of the range of values that cause the logarithm to yield infinity or negative infinity. Ensure you handle these edge cases within your function.**\n"
      ]
    },
    {
      "cell_type": "code",
      "execution_count": 27,
      "metadata": {
        "colab": {
          "base_uri": "https://localhost:8080/"
        },
        "id": "uNyhWIoXdW44",
        "outputId": "c3b9a110-4e68-4ead-eaa8-1c47e739b99f"
      },
      "outputs": [
        {
          "name": "stdout",
          "output_type": "stream",
          "text": [
            "time: 794 µs (started: 2025-01-21 10:27:22 +00:00)\n"
          ]
        }
      ],
      "source": [
        "def log_loss(y_hat, y):\n",
        "    epsilon = 1e-15\n",
        "    y_hat = np.asarray(y_hat, dtype=np.float64)\n",
        "    y = np.asarray(y, dtype=np.float64)\n",
        "\n",
        "    y_hat = np.clip(y_hat, epsilon, 1 - epsilon)\n",
        "\n",
        "    loss = - (y * np.log(y_hat) + (1 - y) * np.log(1 - y_hat))\n",
        "\n",
        "    return np.mean(loss)\n"
      ]
    },
    {
      "cell_type": "markdown",
      "metadata": {
        "id": "WY9DQPrJmvHZ"
      },
      "source": [
        "## NN Hyper Parameters"
      ]
    },
    {
      "cell_type": "code",
      "execution_count": 28,
      "metadata": {
        "colab": {
          "base_uri": "https://localhost:8080/"
        },
        "id": "qGCU_QYRnJap",
        "outputId": "44068777-e25b-4d25-d568-c3bbf3498186"
      },
      "outputs": [
        {
          "name": "stdout",
          "output_type": "stream",
          "text": [
            "time: 570 µs (started: 2025-01-21 10:27:22 +00:00)\n"
          ]
        }
      ],
      "source": [
        "input_layer = X_train.shape[0]\n",
        "hidden_layer = 128\n",
        "learning_rate = 0.1\n",
        "epochs = 20"
      ]
    },
    {
      "cell_type": "markdown",
      "metadata": {
        "id": "M6SdHpc2m3vV"
      },
      "source": [
        "## Weight and Bias Initialization"
      ]
    },
    {
      "cell_type": "code",
      "execution_count": 29,
      "metadata": {
        "colab": {
          "base_uri": "https://localhost:8080/"
        },
        "id": "IVRoMGxTnLZI",
        "outputId": "e10a71d5-9134-4015-8a03-a7c1c35c2acf"
      },
      "outputs": [
        {
          "name": "stdout",
          "output_type": "stream",
          "text": [
            "W1: (128, 784)\n",
            "b1: (128, 1)\n",
            "W2: (128, 128)\n",
            "b2: (128, 1)\n",
            "W3: (128, 128)\n",
            "b3: (128, 1)\n",
            "W4: (1, 128)\n",
            "b4: (1, 1)\n",
            "time: 19 ms (started: 2025-01-21 10:27:22 +00:00)\n"
          ]
        }
      ],
      "source": [
        "W1 = np.random.randn(hidden_layer, input_layer)\n",
        "b1 = np.zeros((hidden_layer, 1))\n",
        "W2 = np.random.randn(hidden_layer, hidden_layer)\n",
        "b2 = np.zeros((hidden_layer, 1))\n",
        "W3 = np.random.randn(hidden_layer, hidden_layer)\n",
        "b3 = np.zeros((hidden_layer, 1))\n",
        "W4 = np.random.randn(1, hidden_layer)\n",
        "b4 = np.zeros((1, 1))\n",
        "\n",
        "\n",
        "print(f'W1: {W1.shape}')\n",
        "print(f'b1: {b1.shape}')\n",
        "print(f'W2: {W2.shape}')\n",
        "print(f'b2: {b2.shape}')\n",
        "print(f'W3: {W3.shape}')\n",
        "print(f'b3: {b3.shape}')\n",
        "print(f'W4: {W4.shape}')\n",
        "print(f'b4: {b4.shape}')"
      ]
    },
    {
      "cell_type": "markdown",
      "metadata": {
        "id": "fp-IaWECn6Hu"
      },
      "source": [
        "## Training (30%)"
      ]
    },
    {
      "cell_type": "code",
      "execution_count": 30,
      "metadata": {
        "colab": {
          "base_uri": "https://localhost:8080/"
        },
        "id": "nGwmxPfipWFR",
        "outputId": "fb79877e-8f0e-46d8-a06e-5e8c81b44d7c"
      },
      "outputs": [
        {
          "name": "stdout",
          "output_type": "stream",
          "text": [
            "Epoch 0, Loss: 0.857669862562089\n",
            "Epoch 1, Loss: 0.43727746706318854\n",
            "Epoch 2, Loss: 0.31659333563705216\n",
            "Epoch 3, Loss: 0.2559696370233056\n",
            "Epoch 4, Loss: 0.21733372850913926\n",
            "Epoch 5, Loss: 0.18948771889121843\n",
            "Epoch 6, Loss: 0.16813513805950983\n",
            "Epoch 7, Loss: 0.15117652108685953\n",
            "Epoch 8, Loss: 0.1373527093395267\n",
            "Epoch 9, Loss: 0.12584016351158842\n",
            "Epoch 10, Loss: 0.1160916067885504\n",
            "Epoch 11, Loss: 0.10773700825490445\n",
            "Epoch 12, Loss: 0.10051563782527914\n",
            "Epoch 13, Loss: 0.09423237535841984\n",
            "Epoch 14, Loss: 0.08873278681723949\n",
            "Epoch 15, Loss: 0.08389059835033741\n",
            "Epoch 16, Loss: 0.07960151630107584\n",
            "Epoch 17, Loss: 0.07577950862293298\n",
            "Epoch 18, Loss: 0.07235387288731883\n",
            "Epoch 19, Loss: 0.06926661921106153\n",
            "time: 47.9 s (started: 2025-01-21 10:27:22 +00:00)\n"
          ]
        }
      ],
      "source": [
        "X = X_train\n",
        "Y = Y_train\n",
        "loss_list = []\n",
        "epoch_list = []\n",
        "num_of_examples = X.shape[1]\n",
        "\n",
        "for i in range(epochs):\n",
        "    avg_epoch_loss = 0\n",
        "    for j in range(num_of_examples):\n",
        "\n",
        "        Z1 = np.matmul(W1, X[:, j]).reshape(hidden_layer, 1) + b1\n",
        "        A1 = sigmoid(Z1)\n",
        "        Z2 = np.matmul(W2, A1) + b2\n",
        "        A2 = sigmoid(Z2)\n",
        "        Z3 = np.matmul(W3, A2) + b3\n",
        "        A3 = sigmoid(Z3)\n",
        "        Z4 = np.matmul(W4, A3) + b4\n",
        "        A4 = sigmoid(Z4)\n",
        "\n",
        "        Yout = Y[j, 0]\n",
        "        Yout = np.asarray(Yout, dtype=np.float64)\n",
        "\n",
        "\n",
        "        loss = log_loss(A4, Yout)\n",
        "        avg_epoch_loss += loss\n",
        "\n",
        "\n",
        "        dZ4 = A4 - Yout\n",
        "        dW4 = (1 / num_of_examples) * np.matmul(dZ4, A3.T)\n",
        "        db4 = dZ4\n",
        "\n",
        "        dZ3 = np.matmul(W4.T, dZ4) * A3 * (1 - A3)\n",
        "        dW3 = (1 / num_of_examples) * np.matmul(dZ3, A2.T)\n",
        "        db3 = dZ3\n",
        "\n",
        "        dZ2 = np.matmul(W3.T, dZ3) * A2 * (1 - A2)\n",
        "        dW2 = (1 / num_of_examples) * np.matmul(dZ2, A1.T)\n",
        "        db2 = dZ2\n",
        "\n",
        "        dZ1 = np.matmul(W2.T, dZ2) * A1 * (1 - A1)\n",
        "        dW1 = (1 / num_of_examples) * np.matmul(dZ1, X[:, j].reshape(784, 1).T)\n",
        "        db1 = dZ1\n",
        "\n",
        "\n",
        "        W4 -= learning_rate * dW4\n",
        "        b4 -= learning_rate * db4\n",
        "        W3 -= learning_rate * dW3\n",
        "        b3 -= learning_rate * db3\n",
        "        W2 -= learning_rate * dW2\n",
        "        b2 -= learning_rate * db2\n",
        "        W1 -= learning_rate * dW1\n",
        "        b1 -= learning_rate * db1\n",
        "\n",
        "    avg_epoch_loss /= num_of_examples\n",
        "    loss_list.append(avg_epoch_loss)\n",
        "    epoch_list.append(i)\n",
        "    print(f\"Epoch {i}, Loss: {avg_epoch_loss}\")\n"
      ]
    },
    {
      "cell_type": "markdown",
      "metadata": {
        "id": "TdgCk97534-B"
      },
      "source": [
        "### Loss Visualization"
      ]
    },
    {
      "cell_type": "code",
      "execution_count": 31,
      "metadata": {
        "colab": {
          "base_uri": "https://localhost:8080/",
          "height": 484
        },
        "id": "RFo9NN5Q31X8",
        "outputId": "1d9df721-8f89-451d-9a56-a7f6cdd40a44"
      },
      "outputs": [
        {
          "data": {
            "text/plain": [
              "[<matplotlib.lines.Line2D at 0x7e1538cc6390>]"
            ]
          },
          "execution_count": 31,
          "metadata": {},
          "output_type": "execute_result"
        },
        {
          "data": {
            "image/png": "[encoded data removed]",
            "text/plain": [
              "<Figure size 640x480 with 1 Axes>"
            ]
          },
          "metadata": {},
          "output_type": "display_data"
        },
        {
          "name": "stdout",
          "output_type": "stream",
          "text": [
            "time: 326 ms (started: 2025-01-21 10:28:10 +00:00)\n"
          ]
        }
      ],
      "source": [
        "import matplotlib.pyplot as plt\n",
        "plt.xlabel('Epoch Number')\n",
        "plt.ylabel(\"Loss\")\n",
        "plt.plot(epoch_list, loss_list)"
      ]
    },
    {
      "cell_type": "markdown",
      "metadata": {
        "id": "5HV5g7j92Xfn"
      },
      "source": [
        "## Results"
      ]
    },
    {
      "cell_type": "markdown",
      "metadata": {
        "id": "raBFclM5ploH"
      },
      "source": [
        "### Test your performance (20%)"
      ]
    },
    {
      "cell_type": "code",
      "execution_count": 32,
      "metadata": {
        "colab": {
          "base_uri": "https://localhost:8080/"
        },
        "id": "flfh-luxDs7Z",
        "outputId": "30f84d72-e7db-453b-cc7f-844dff43e616"
      },
      "outputs": [
        {
          "name": "stdout",
          "output_type": "stream",
          "text": [
            "[[ 90   1]\n",
            " [  1 108]]\n",
            "time: 30.7 ms (started: 2025-01-21 10:28:10 +00:00)\n"
          ]
        }
      ],
      "source": [
        "X = X_test\n",
        "Y = Y_test\n",
        "\n",
        "Z1 = np.matmul(W1, X_test) + b1\n",
        "A1 = sigmoid(Z1)\n",
        "Z2 = np.matmul(W2, A1) + b2\n",
        "A2 = sigmoid(Z2)\n",
        "Z3 = np.matmul(W3, A2) + b3\n",
        "A3 = sigmoid(Z3)\n",
        "Z4 = np.matmul(W4, A3) + b4\n",
        "A4 = sigmoid(Z4)\n",
        "\n",
        "\n",
        "predictions = np.zeros((1,Y.shape[0]))\n",
        "labels = np.zeros((1,Y.shape[0]))\n",
        "\n",
        "for i in range(Y.shape[0]):\n",
        "  if (A4[0,i] > 0.5):\n",
        "    predictions[0,i] = 1\n",
        "  labels[0,i] = Y[i,0]\n",
        "\n",
        "\n",
        "print(confusion_matrix(predictions.T, labels.T))"
      ]
    },
    {
      "cell_type": "markdown",
      "metadata": {
        "id": "7FtZr0EQBlcm"
      },
      "source": [
        "### Visualize the results"
      ]
    },
    {
      "cell_type": "code",
      "execution_count": 33,
      "metadata": {
        "colab": {
          "base_uri": "https://localhost:8080/",
          "height": 1000
        },
        "id": "gAj_5W2wVUrI",
        "outputId": "71f19b27-339f-4ce4-a5fe-c8e42fb9142c"
      },
      "outputs": [
        {
          "data": {
            "image/png": "[encoded data removed]",
            "text/plain": [
              "<Figure size 640x480 with 1 Axes>"
            ]
          },
          "metadata": {},
          "output_type": "display_data"
        },
        {
          "name": "stdout",
          "output_type": "stream",
          "text": [
            "Real= 0 Predicted= [[0.00766128]]\n"
          ]
        },
        {
          "data": {
            "image/png": "[encoded data removed]",
            "text/plain": [
              "<Figure size 640x480 with 1 Axes>"
            ]
          },
          "metadata": {},
          "output_type": "display_data"
        },
        {
          "name": "stdout",
          "output_type": "stream",
          "text": [
            "Real= 1 Predicted= [[0.96107877]]\n"
          ]
        },
        {
          "data": {
            "image/png": "[encoded data removed]",
            "text/plain": [
              "<Figure size 640x480 with 1 Axes>"
            ]
          },
          "metadata": {},
          "output_type": "display_data"
        },
        {
          "name": "stdout",
          "output_type": "stream",
          "text": [
            "Real= 1 Predicted= [[0.93782163]]\n"
          ]
        },
        {
          "data": {
            "image/png": "[encoded data removed]",
            "text/plain": [
              "<Figure size 640x480 with 1 Axes>"
            ]
          },
          "metadata": {},
          "output_type": "display_data"
        },
        {
          "name": "stdout",
          "output_type": "stream",
          "text": [
            "Real= 0 Predicted= [[0.00423842]]\n"
          ]
        },
        {
          "data": {
            "image/png": "[encoded data removed]",
            "text/plain": [
              "<Figure size 640x480 with 1 Axes>"
            ]
          },
          "metadata": {},
          "output_type": "display_data"
        },
        {
          "name": "stdout",
          "output_type": "stream",
          "text": [
            "Real= 1 Predicted= [[0.99843769]]\n"
          ]
        },
        {
          "data": {
            "image/png": "[encoded data removed]",
            "text/plain": [
              "<Figure size 640x480 with 1 Axes>"
            ]
          },
          "metadata": {},
          "output_type": "display_data"
        },
        {
          "name": "stdout",
          "output_type": "stream",
          "text": [
            "Real= 1 Predicted= [[0.99324202]]\n"
          ]
        },
        {
          "data": {
            "image/png": "[encoded data removed]",
            "text/plain": [
              "<Figure size 640x480 with 1 Axes>"
            ]
          },
          "metadata": {},
          "output_type": "display_data"
        },
        {
          "name": "stdout",
          "output_type": "stream",
          "text": [
            "Real= 0 Predicted= [[0.01092786]]\n"
          ]
        },
        {
          "data": {
            "image/png": "[encoded data removed]",
            "text/plain": [
              "<Figure size 640x480 with 1 Axes>"
            ]
          },
          "metadata": {},
          "output_type": "display_data"
        },
        {
          "name": "stdout",
          "output_type": "stream",
          "text": [
            "Real= 1 Predicted= [[0.90853399]]\n"
          ]
        },
        {
          "data": {
            "image/png": "[encoded data removed]",
            "text/plain": [
              "<Figure size 640x480 with 1 Axes>"
            ]
          },
          "metadata": {},
          "output_type": "display_data"
        },
        {
          "name": "stdout",
          "output_type": "stream",
          "text": [
            "Real= 1 Predicted= [[0.91652144]]\n"
          ]
        },
        {
          "data": {
            "image/png": "[encoded data removed]",
            "text/plain": [
              "<Figure size 640x480 with 1 Axes>"
            ]
          },
          "metadata": {},
          "output_type": "display_data"
        },
        {
          "name": "stdout",
          "output_type": "stream",
          "text": [
            "Real= 1 Predicted= [[0.99731244]]\n",
            "time: 1.16 s (started: 2025-01-21 10:28:10 +00:00)\n"
          ]
        }
      ],
      "source": [
        "%matplotlib inline\n",
        "from numpy import random\n",
        "for example in range(10):\n",
        "  i = random.randint(200)\n",
        "  plt.imshow(X_test[:,i].reshape(28,28), cmap = matplotlib.cm.binary)\n",
        "  plt.axis(\"off\")\n",
        "  plt.show()\n",
        "  Y_test[i,0]\n",
        "\n",
        "  Z1 = (np.matmul(W1,X_test[:,i])).reshape(-1,1) + b1\n",
        "  A1 = sigmoid(Z1)\n",
        "  Z2 = np.matmul(W2, A1) + b2\n",
        "  A2 = sigmoid(Z2)\n",
        "  Z3 = np.matmul(W3, A2) + b3\n",
        "  A3 = sigmoid(Z3)\n",
        "  Z4 = np.matmul(W4, A3) + b4\n",
        "  A4 = sigmoid(Z4)\n",
        "  Yout = Y[i,0]\n",
        "  print(\"Real=\", Y_test[i,0], \"Predicted=\",A4)"
      ]
    }
  ],
  "metadata": {
    "accelerator": "GPU",
    "colab": {
      "provenance": []
    },
    "kernelspec": {
      "display_name": "Python 3",
      "name": "python3"
    },
    "language_info": {
      "name": "python"
    }
  },
  "nbformat": 4,
  "nbformat_minor": 0
}
